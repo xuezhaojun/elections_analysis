{
 "metadata": {
  "language_info": {
   "codemirror_mode": {
    "name": "ipython",
    "version": 3
   },
   "file_extension": ".py",
   "mimetype": "text/x-python",
   "name": "python",
   "nbconvert_exporter": "python",
   "pygments_lexer": "ipython3",
   "version": "3.8.6"
  },
  "orig_nbformat": 2,
  "kernelspec": {
   "name": "python386jvsc74a57bd0b34732a92b0b0c995644aa5776fd72acf9cbbf2687c808718242677c47a3e0ff",
   "display_name": "Python 3.8.6 64-bit ('Python38')"
  }
 },
 "nbformat": 4,
 "nbformat_minor": 2,
 "cells": [
  {
   "source": [],
   "cell_type": "markdown",
   "metadata": {}
  },
  {
   "cell_type": "code",
   "execution_count": 1,
   "metadata": {},
   "outputs": [],
   "source": [
    "from os import walk\n",
    "import csv\n",
    "import networkx as nx\n",
    "from networkx.algorithms import community\n",
    "import matplotlib.pyplot as plt"
   ]
  },
  {
   "cell_type": "code",
   "execution_count": 2,
   "metadata": {},
   "outputs": [],
   "source": [
    "# all functions about load\n",
    "def read_us_users(us_user_file_path):\n",
    "    us_users = {}\n",
    "    with open(us_user_file_path,\"r\") as file:\n",
    "        reader = csv.reader(file)\n",
    "        for row in reader:\n",
    "            us_users[row[0]] = 1 \n",
    "    print(\"us users number:\")\n",
    "    print(len(us_users))\n",
    "    return us_users\n",
    "\n",
    "def read_connections(connections_file_path):\n",
    "    connections = []\n",
    "    with open(connections_file_path, 'r') as file:\n",
    "        reader = csv.reader(file)\n",
    "        for row in reader:\n",
    "            connections.append((row[0],row[1]))   \n",
    "    print(\"connections number:\")\n",
    "    print(len(connections))  \n",
    "    return connections\n",
    "\n",
    "def read_all_n_users(n_users_file_path):\n",
    "    all_n_users = {}\n",
    "    with open(n_users_file_path,\"r\") as file:\n",
    "        lines = file.readlines()\n",
    "        for line in lines:\n",
    "            ss = line.split(',')\n",
    "            all_n_users[ss[0]] = ss[1]\n",
    "    return all_n_users\n",
    "\n",
    "def pure_connections(connections, us_users):\n",
    "    new_connections = []\n",
    "    for cc in connections:\n",
    "        if cc[0] in us_users or cc[1] in us_users:\n",
    "            new_connections.append(cc)\n",
    "    print(\"us_connections:\")\n",
    "    print(len(new_connections))\n",
    "    return new_connections"
   ]
  },
  {
   "cell_type": "code",
   "execution_count": 7,
   "metadata": {},
   "outputs": [
    {
     "output_type": "stream",
     "name": "stdout",
     "text": [
      "us users number:\n",
      "50070\n",
      "connections number:\n",
      "40543\n",
      "us_connections:\n",
      "4415\n"
     ]
    }
   ],
   "source": [
    "# load data\n",
    "# file paths\n",
    "conntections_path = \"connections.csv\"\n",
    "us_user_path = \"us_users.csv\"\n",
    "n_user_path = \"users/all_users.csv\"\n",
    "anti_n_user_path = \"users/all_anti_n_users.csv\"\n",
    "\n",
    "us_users = read_us_users(us_user_path)\n",
    "connections = read_connections(conntections_path)\n",
    "n_users = read_all_n_users(n_user_path)\n",
    "anti_n_users = read_all_n_users(anti_n_user_path)\n",
    "us_connections = pure_connections(connections,us_users)\n",
    "\n",
    "# 10 n_users in us_connections"
   ]
  },
  {
   "cell_type": "code",
   "execution_count": 4,
   "metadata": {},
   "outputs": [],
   "source": [
    "# build a network first\n",
    "def build_a_network(connections, all_n_users):\n",
    "    G = nx.Graph()\n",
    "    G.add_edges_from(connections)\n",
    "    return G\n",
    "g = build_a_network(us_connections, n_users)"
   ]
  },
  {
   "cell_type": "code",
   "execution_count": 5,
   "metadata": {
    "tags": []
   },
   "outputs": [
    {
     "output_type": "stream",
     "name": "stdout",
     "text": [
      "nodes size:\n7019\n4341\n"
     ]
    }
   ],
   "source": [
    "print(\"nodes size:\")\n",
    "print(len(g.nodes))\n",
    "print(len(g.edges))"
   ]
  },
  {
   "cell_type": "code",
   "execution_count": 6,
   "metadata": {},
   "outputs": [],
   "source": [
    "# find comminities\n",
    "# find all communities that our users are in\n",
    "result = community.girvan_newman(g)\n",
    "communities = next(result)"
   ]
  },
  {
   "cell_type": "code",
   "execution_count": 30,
   "metadata": {
    "tags": []
   },
   "outputs": [
    {
     "output_type": "stream",
     "name": "stdout",
     "text": [
      "[2776, 7019, 6, 20]\nAverage size:\n2.528458213256484\n3.3333333333333335\n"
     ]
    }
   ],
   "source": [
    "c_size_sum = 0\n",
    "n_c_size_sum = 0\n",
    "n_c_size_count = 0\n",
    "anti_c_size_sum = 0\n",
    "anti_c_size_count = 0\n",
    "for c in communities:\n",
    "    c_size = len(c)\n",
    "    c_size_sum += c_size\n",
    "    n_use_in_c = False\n",
    "    for n_user in n_users:\n",
    "        if n_user in c:\n",
    "            n_use_in_c = True\n",
    "    if n_use_in_c:\n",
    "        n_c_size_count += 1\n",
    "        n_c_size_sum += c_size\n",
    "    # anti\n",
    "    anti_user_in_c = False\n",
    "    for anti_user in anti_n_users:\n",
    "        if anti_user in c:\n",
    "            anti_user_in_c = True\n",
    "    if anti_user_in_c:\n",
    "        anti_c_size_count += 1\n",
    "        anti_c_size_sum += c_size\n",
    "print([len(communities), c_size_sum, n_c_size_count, n_c_size_sum])\n",
    "print(\"Average size:\")\n",
    "print(c_size_sum/len(communities))\n",
    "print(n_c_size_sum/n_c_size_count)\n",
    "print(anti_c_size_sum/anti_c_size_count)"
   ]
  }
 ]
}